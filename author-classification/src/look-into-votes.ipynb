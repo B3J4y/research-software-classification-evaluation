{
 "cells": [
  {
   "cell_type": "code",
   "execution_count": 5,
   "id": "636ed45be6a6c134",
   "metadata": {
    "collapsed": false,
    "ExecuteTime": {
     "end_time": "2024-10-31T21:31:47.162982Z",
     "start_time": "2024-10-31T21:31:47.150098Z"
    }
   },
   "outputs": [
    {
     "data": {
      "text/plain": "        VAR                                              LABEL    TYPE  \\\n0      CASE                     Interview-Nummer (fortlaufend)  METRIC   \n1    SERIAL  Personenkennung oder Teilnahmecode (sofern ver...    TEXT   \n2       REF                Referenz (sofern im Link angegeben)    TEXT   \n3  QUESTNNR       Fragebogen, der im Interview verwendet wurde    TEXT   \n4      MODE                                    Interview-Modus    TEXT   \n\n    INPUT QUESTION  \n0  SYSTEM      NaN  \n1  SYSTEM      NaN  \n2  SYSTEM      NaN  \n3  SYSTEM      NaN  \n4  SYSTEM      NaN  ",
      "text/html": "<div>\n<style scoped>\n    .dataframe tbody tr th:only-of-type {\n        vertical-align: middle;\n    }\n\n    .dataframe tbody tr th {\n        vertical-align: top;\n    }\n\n    .dataframe thead th {\n        text-align: right;\n    }\n</style>\n<table border=\"1\" class=\"dataframe\">\n  <thead>\n    <tr style=\"text-align: right;\">\n      <th></th>\n      <th>VAR</th>\n      <th>LABEL</th>\n      <th>TYPE</th>\n      <th>INPUT</th>\n      <th>QUESTION</th>\n    </tr>\n  </thead>\n  <tbody>\n    <tr>\n      <th>0</th>\n      <td>CASE</td>\n      <td>Interview-Nummer (fortlaufend)</td>\n      <td>METRIC</td>\n      <td>SYSTEM</td>\n      <td>NaN</td>\n    </tr>\n    <tr>\n      <th>1</th>\n      <td>SERIAL</td>\n      <td>Personenkennung oder Teilnahmecode (sofern ver...</td>\n      <td>TEXT</td>\n      <td>SYSTEM</td>\n      <td>NaN</td>\n    </tr>\n    <tr>\n      <th>2</th>\n      <td>REF</td>\n      <td>Referenz (sofern im Link angegeben)</td>\n      <td>TEXT</td>\n      <td>SYSTEM</td>\n      <td>NaN</td>\n    </tr>\n    <tr>\n      <th>3</th>\n      <td>QUESTNNR</td>\n      <td>Fragebogen, der im Interview verwendet wurde</td>\n      <td>TEXT</td>\n      <td>SYSTEM</td>\n      <td>NaN</td>\n    </tr>\n    <tr>\n      <th>4</th>\n      <td>MODE</td>\n      <td>Interview-Modus</td>\n      <td>TEXT</td>\n      <td>SYSTEM</td>\n      <td>NaN</td>\n    </tr>\n  </tbody>\n</table>\n</div>"
     },
     "execution_count": 5,
     "metadata": {},
     "output_type": "execute_result"
    }
   ],
   "source": [
    "import pandas as pd\n",
    "\n",
    "# Attempt to load the data using UTF-16 encoding, which may resolve encoding issues\n",
    "variables_df = pd.read_csv('../data/variables_res-soft-class_2024-10-31_21-58.csv', delimiter=';', encoding='utf-16')\n",
    "data_df = pd.read_csv('../data/data_res-soft-class_2024-10-31_21-46.csv', delimiter=';', encoding='utf-16')\n",
    "values_df = pd.read_csv('../data/values_res-soft-class_2024-10-31_21-58.csv', delimiter=';', encoding='utf-16')\n",
    "\n",
    "# Displaying the first few rows of each DataFrame to verify successful loading\n",
    "variables_df.head() \n",
    " "
   ]
  },
  {
   "cell_type": "code",
   "outputs": [
    {
     "data": {
      "text/plain": "   CASE  SERIAL  REF QUESTNNR       MODE              STARTED  R001_CN  \\\n0    63     NaN  NaN     base  interview  2024-10-18 08:46:14      NaN   \n1    68     NaN  NaN     base  interview  2024-10-18 09:30:17      NaN   \n2    69     NaN  NaN     base  interview  2024-10-18 10:01:06      NaN   \n3    70     NaN  NaN     base  interview  2024-10-18 10:02:52      1.0   \n4    72     NaN  NaN     base  interview  2024-10-18 11:52:05      1.0   \n\n   R001x01  R001x11  R001x12  ...  TIME_SUM  MAILSENT             LASTDATA  \\\n0      NaN      NaN      NaN  ...        10       NaN  2024-10-18 08:46:24   \n1      NaN      NaN      NaN  ...       174       NaN  2024-10-21 09:14:27   \n2      NaN      NaN      NaN  ...         6       NaN  2024-10-18 10:01:12   \n3      2.0      2.0      1.0  ...       632       NaN  2024-10-18 10:13:24   \n4      2.0      2.0      1.0  ...       162       NaN  2024-10-18 11:54:47   \n\n   FINISHED  Q_VIEWER  LASTPAGE  MAXPAGE  MISSING  MISSREL  TIME_RSI  \n0         0         0         1        1        0        0       0,6  \n1         0         0         2        2        0        0      0,38  \n2         0         0         1        1        0        0         1  \n3         1         0         2        2        0        0      1,13  \n4         1         0         2        2        0        0      0,96  \n\n[5 rows x 46 columns]",
      "text/html": "<div>\n<style scoped>\n    .dataframe tbody tr th:only-of-type {\n        vertical-align: middle;\n    }\n\n    .dataframe tbody tr th {\n        vertical-align: top;\n    }\n\n    .dataframe thead th {\n        text-align: right;\n    }\n</style>\n<table border=\"1\" class=\"dataframe\">\n  <thead>\n    <tr style=\"text-align: right;\">\n      <th></th>\n      <th>CASE</th>\n      <th>SERIAL</th>\n      <th>REF</th>\n      <th>QUESTNNR</th>\n      <th>MODE</th>\n      <th>STARTED</th>\n      <th>R001_CN</th>\n      <th>R001x01</th>\n      <th>R001x11</th>\n      <th>R001x12</th>\n      <th>...</th>\n      <th>TIME_SUM</th>\n      <th>MAILSENT</th>\n      <th>LASTDATA</th>\n      <th>FINISHED</th>\n      <th>Q_VIEWER</th>\n      <th>LASTPAGE</th>\n      <th>MAXPAGE</th>\n      <th>MISSING</th>\n      <th>MISSREL</th>\n      <th>TIME_RSI</th>\n    </tr>\n  </thead>\n  <tbody>\n    <tr>\n      <th>0</th>\n      <td>63</td>\n      <td>NaN</td>\n      <td>NaN</td>\n      <td>base</td>\n      <td>interview</td>\n      <td>2024-10-18 08:46:14</td>\n      <td>NaN</td>\n      <td>NaN</td>\n      <td>NaN</td>\n      <td>NaN</td>\n      <td>...</td>\n      <td>10</td>\n      <td>NaN</td>\n      <td>2024-10-18 08:46:24</td>\n      <td>0</td>\n      <td>0</td>\n      <td>1</td>\n      <td>1</td>\n      <td>0</td>\n      <td>0</td>\n      <td>0,6</td>\n    </tr>\n    <tr>\n      <th>1</th>\n      <td>68</td>\n      <td>NaN</td>\n      <td>NaN</td>\n      <td>base</td>\n      <td>interview</td>\n      <td>2024-10-18 09:30:17</td>\n      <td>NaN</td>\n      <td>NaN</td>\n      <td>NaN</td>\n      <td>NaN</td>\n      <td>...</td>\n      <td>174</td>\n      <td>NaN</td>\n      <td>2024-10-21 09:14:27</td>\n      <td>0</td>\n      <td>0</td>\n      <td>2</td>\n      <td>2</td>\n      <td>0</td>\n      <td>0</td>\n      <td>0,38</td>\n    </tr>\n    <tr>\n      <th>2</th>\n      <td>69</td>\n      <td>NaN</td>\n      <td>NaN</td>\n      <td>base</td>\n      <td>interview</td>\n      <td>2024-10-18 10:01:06</td>\n      <td>NaN</td>\n      <td>NaN</td>\n      <td>NaN</td>\n      <td>NaN</td>\n      <td>...</td>\n      <td>6</td>\n      <td>NaN</td>\n      <td>2024-10-18 10:01:12</td>\n      <td>0</td>\n      <td>0</td>\n      <td>1</td>\n      <td>1</td>\n      <td>0</td>\n      <td>0</td>\n      <td>1</td>\n    </tr>\n    <tr>\n      <th>3</th>\n      <td>70</td>\n      <td>NaN</td>\n      <td>NaN</td>\n      <td>base</td>\n      <td>interview</td>\n      <td>2024-10-18 10:02:52</td>\n      <td>1.0</td>\n      <td>2.0</td>\n      <td>2.0</td>\n      <td>1.0</td>\n      <td>...</td>\n      <td>632</td>\n      <td>NaN</td>\n      <td>2024-10-18 10:13:24</td>\n      <td>1</td>\n      <td>0</td>\n      <td>2</td>\n      <td>2</td>\n      <td>0</td>\n      <td>0</td>\n      <td>1,13</td>\n    </tr>\n    <tr>\n      <th>4</th>\n      <td>72</td>\n      <td>NaN</td>\n      <td>NaN</td>\n      <td>base</td>\n      <td>interview</td>\n      <td>2024-10-18 11:52:05</td>\n      <td>1.0</td>\n      <td>2.0</td>\n      <td>2.0</td>\n      <td>1.0</td>\n      <td>...</td>\n      <td>162</td>\n      <td>NaN</td>\n      <td>2024-10-18 11:54:47</td>\n      <td>1</td>\n      <td>0</td>\n      <td>2</td>\n      <td>2</td>\n      <td>0</td>\n      <td>0</td>\n      <td>0,96</td>\n    </tr>\n  </tbody>\n</table>\n<p>5 rows × 46 columns</p>\n</div>"
     },
     "execution_count": 4,
     "metadata": {},
     "output_type": "execute_result"
    }
   ],
   "source": [
    "data_df.head()"
   ],
   "metadata": {
    "collapsed": false,
    "ExecuteTime": {
     "end_time": "2024-10-31T21:31:44.686398Z",
     "start_time": "2024-10-31T21:31:44.676229Z"
    }
   },
   "id": "9ee1ff6f72e463f",
   "execution_count": 4
  },
  {
   "cell_type": "code",
   "outputs": [
    {
     "data": {
      "text/plain": "(        VAR                                              LABEL    TYPE  \\\n 0      CASE                     Interview-Nummer (fortlaufend)  METRIC   \n 1    SERIAL  Personenkennung oder Teilnahmecode (sofern ver...    TEXT   \n 2       REF                Referenz (sofern im Link angegeben)    TEXT   \n 3  QUESTNNR       Fragebogen, der im Interview verwendet wurde    TEXT   \n 4      MODE                                    Interview-Modus    TEXT   \n \n     INPUT QUESTION  \n 0  SYSTEM      NaN  \n 1  SYSTEM      NaN  \n 2  SYSTEM      NaN  \n 3  SYSTEM      NaN  \n 4  SYSTEM      NaN  ,\n    CASE  SERIAL  REF QUESTNNR       MODE              STARTED  R001_CN  \\\n 0    63     NaN  NaN     base  interview  2024-10-18 08:46:14      NaN   \n 1    68     NaN  NaN     base  interview  2024-10-18 09:30:17      NaN   \n 2    69     NaN  NaN     base  interview  2024-10-18 10:01:06      NaN   \n 3    70     NaN  NaN     base  interview  2024-10-18 10:02:52      1.0   \n 4    72     NaN  NaN     base  interview  2024-10-18 11:52:05      1.0   \n \n    R001x01  R001x11  R001x12  ...  TIME_SUM  MAILSENT             LASTDATA  \\\n 0      NaN      NaN      NaN  ...        10       NaN  2024-10-18 08:46:24   \n 1      NaN      NaN      NaN  ...       174       NaN  2024-10-21 09:14:27   \n 2      NaN      NaN      NaN  ...         6       NaN  2024-10-18 10:01:12   \n 3      2.0      2.0      1.0  ...       632       NaN  2024-10-18 10:13:24   \n 4      2.0      2.0      1.0  ...       162       NaN  2024-10-18 11:54:47   \n \n    FINISHED  Q_VIEWER  LASTPAGE  MAXPAGE  MISSING  MISSREL  TIME_RSI  \n 0         0         0         1        1        0        0       0,6  \n 1         0         0         2        2        0        0      0,38  \n 2         0         0         1        1        0        0         1  \n 3         1         0         2        2        0        0      1,13  \n 4         1         0         2        2        0        0      0,96  \n \n [5 rows x 46 columns],\n        VAR  RESPONSE        MEANING\n 0  R001x01         1  nicht gewählt\n 1  R001x01         2     ausgewählt\n 2  R001x11         1  nicht gewählt\n 3  R001x11         2     ausgewählt\n 4  R001x12         1  nicht gewählt)"
     },
     "execution_count": 2,
     "metadata": {},
     "output_type": "execute_result"
    }
   ],
   "source": [
    "\n",
    "values_df.head()\n"
   ],
   "metadata": {
    "collapsed": true,
    "ExecuteTime": {
     "end_time": "2024-10-31T21:25:43.431245Z",
     "start_time": "2024-10-31T21:25:43.410806Z"
    }
   },
   "id": "initial_id",
   "execution_count": 2
  },
  {
   "cell_type": "code",
   "outputs": [
    {
     "data": {
      "text/plain": "     CASE  REF\n0      63  NaN\n1      68  NaN\n2      69  NaN\n3      70  NaN\n4      72  NaN\n..    ...  ...\n260   405  NaN\n261   407  NaN\n262   408  NaN\n263   409  NaN\n264   414  NaN\n\n[265 rows x 2 columns]",
      "text/html": "<div>\n<style scoped>\n    .dataframe tbody tr th:only-of-type {\n        vertical-align: middle;\n    }\n\n    .dataframe tbody tr th {\n        vertical-align: top;\n    }\n\n    .dataframe thead th {\n        text-align: right;\n    }\n</style>\n<table border=\"1\" class=\"dataframe\">\n  <thead>\n    <tr style=\"text-align: right;\">\n      <th></th>\n      <th>CASE</th>\n      <th>REF</th>\n    </tr>\n  </thead>\n  <tbody>\n    <tr>\n      <th>0</th>\n      <td>63</td>\n      <td>NaN</td>\n    </tr>\n    <tr>\n      <th>1</th>\n      <td>68</td>\n      <td>NaN</td>\n    </tr>\n    <tr>\n      <th>2</th>\n      <td>69</td>\n      <td>NaN</td>\n    </tr>\n    <tr>\n      <th>3</th>\n      <td>70</td>\n      <td>NaN</td>\n    </tr>\n    <tr>\n      <th>4</th>\n      <td>72</td>\n      <td>NaN</td>\n    </tr>\n    <tr>\n      <th>...</th>\n      <td>...</td>\n      <td>...</td>\n    </tr>\n    <tr>\n      <th>260</th>\n      <td>405</td>\n      <td>NaN</td>\n    </tr>\n    <tr>\n      <th>261</th>\n      <td>407</td>\n      <td>NaN</td>\n    </tr>\n    <tr>\n      <th>262</th>\n      <td>408</td>\n      <td>NaN</td>\n    </tr>\n    <tr>\n      <th>263</th>\n      <td>409</td>\n      <td>NaN</td>\n    </tr>\n    <tr>\n      <th>264</th>\n      <td>414</td>\n      <td>NaN</td>\n    </tr>\n  </tbody>\n</table>\n<p>265 rows × 2 columns</p>\n</div>"
     },
     "execution_count": 6,
     "metadata": {},
     "output_type": "execute_result"
    }
   ],
   "source": [
    "# Filtering for relevant information: ID, DOI, and category responses marked as \"2\" (selected)\n",
    "\n",
    "# Extract mappings from variables and values for category labels\n",
    "variables_labels = variables_df[['VAR', 'LABEL']].set_index('VAR').to_dict()['LABEL']\n",
    "values_selected = values_df[values_df['RESPONSE'] == 2][['VAR', 'MEANING']]\n",
    "\n",
    "# Merge the information to get category label names for selected responses\n",
    "selected_responses = data_df[['CASE', 'REF']].copy()  # Starting with CASE and REF columns\n",
    "\n",
    "selected_responses"
   ],
   "metadata": {
    "collapsed": false,
    "ExecuteTime": {
     "end_time": "2024-10-31T21:32:38.481731Z",
     "start_time": "2024-10-31T21:32:38.472893Z"
    }
   },
   "id": "3d47d77a729bb13a",
   "execution_count": 6
  },
  {
   "cell_type": "code",
   "outputs": [
    {
     "data": {
      "text/plain": "     CASE  REF  R001x01  R001x11  R001x12  R001x13  R001x14  R001x15  R001x02  \\\n0      63  NaN      NaN      NaN      NaN      NaN      NaN      NaN      NaN   \n1      68  NaN      NaN      NaN      NaN      NaN      NaN      NaN      NaN   \n2      69  NaN      NaN      NaN      NaN      NaN      NaN      NaN      NaN   \n3      70  NaN      2.0      2.0      1.0      1.0      1.0      1.0      1.0   \n4      72  NaN      2.0      2.0      1.0      1.0      1.0      1.0      1.0   \n..    ...  ...      ...      ...      ...      ...      ...      ...      ...   \n260   405  NaN      2.0      2.0      1.0      1.0      1.0      1.0      1.0   \n261   407  NaN      NaN      NaN      NaN      NaN      NaN      NaN      NaN   \n262   408  NaN      2.0      2.0      1.0      1.0      1.0      1.0      1.0   \n263   409  NaN      2.0      2.0      1.0      1.0      1.0      1.0      1.0   \n264   414  NaN      NaN      NaN      NaN      NaN      NaN      NaN      NaN   \n\n     R001x21  ...  R001x32  R001x33  R001x34  R001x35  R001x36  R001x37  \\\n0        NaN  ...      NaN      NaN      NaN      NaN      NaN      NaN   \n1        NaN  ...      NaN      NaN      NaN      NaN      NaN      NaN   \n2        NaN  ...      NaN      NaN      NaN      NaN      NaN      NaN   \n3        NaN  ...      1.0      1.0      1.0      1.0      1.0      1.0   \n4        NaN  ...      1.0      1.0      1.0      1.0      1.0      1.0   \n..       ...  ...      ...      ...      ...      ...      ...      ...   \n260      1.0  ...      1.0      1.0      1.0      1.0      1.0      1.0   \n261      NaN  ...      NaN      NaN      NaN      NaN      NaN      NaN   \n262      1.0  ...      1.0      1.0      1.0      1.0      1.0      1.0   \n263      1.0  ...      1.0      1.0      2.0      1.0      1.0      1.0   \n264      NaN  ...      NaN      NaN      NaN      NaN      NaN      NaN   \n\n     R001x38  R001x99  R003  R005  \n0        NaN      NaN     3   NaN  \n1        NaN      NaN     8   NaN  \n2        NaN      NaN     3   NaN  \n3        1.0      NaN     3   NaN  \n4        1.0      NaN     9   NaN  \n..       ...      ...   ...   ...  \n260      1.0      1.0    13   1.0  \n261      NaN      NaN    13   NaN  \n262      1.0      1.0     1   1.0  \n263      1.0      1.0     1   1.0  \n264      NaN      NaN     7   NaN  \n\n[265 rows x 24 columns]",
      "text/html": "<div>\n<style scoped>\n    .dataframe tbody tr th:only-of-type {\n        vertical-align: middle;\n    }\n\n    .dataframe tbody tr th {\n        vertical-align: top;\n    }\n\n    .dataframe thead th {\n        text-align: right;\n    }\n</style>\n<table border=\"1\" class=\"dataframe\">\n  <thead>\n    <tr style=\"text-align: right;\">\n      <th></th>\n      <th>CASE</th>\n      <th>REF</th>\n      <th>R001x01</th>\n      <th>R001x11</th>\n      <th>R001x12</th>\n      <th>R001x13</th>\n      <th>R001x14</th>\n      <th>R001x15</th>\n      <th>R001x02</th>\n      <th>R001x21</th>\n      <th>...</th>\n      <th>R001x32</th>\n      <th>R001x33</th>\n      <th>R001x34</th>\n      <th>R001x35</th>\n      <th>R001x36</th>\n      <th>R001x37</th>\n      <th>R001x38</th>\n      <th>R001x99</th>\n      <th>R003</th>\n      <th>R005</th>\n    </tr>\n  </thead>\n  <tbody>\n    <tr>\n      <th>0</th>\n      <td>63</td>\n      <td>NaN</td>\n      <td>NaN</td>\n      <td>NaN</td>\n      <td>NaN</td>\n      <td>NaN</td>\n      <td>NaN</td>\n      <td>NaN</td>\n      <td>NaN</td>\n      <td>NaN</td>\n      <td>...</td>\n      <td>NaN</td>\n      <td>NaN</td>\n      <td>NaN</td>\n      <td>NaN</td>\n      <td>NaN</td>\n      <td>NaN</td>\n      <td>NaN</td>\n      <td>NaN</td>\n      <td>3</td>\n      <td>NaN</td>\n    </tr>\n    <tr>\n      <th>1</th>\n      <td>68</td>\n      <td>NaN</td>\n      <td>NaN</td>\n      <td>NaN</td>\n      <td>NaN</td>\n      <td>NaN</td>\n      <td>NaN</td>\n      <td>NaN</td>\n      <td>NaN</td>\n      <td>NaN</td>\n      <td>...</td>\n      <td>NaN</td>\n      <td>NaN</td>\n      <td>NaN</td>\n      <td>NaN</td>\n      <td>NaN</td>\n      <td>NaN</td>\n      <td>NaN</td>\n      <td>NaN</td>\n      <td>8</td>\n      <td>NaN</td>\n    </tr>\n    <tr>\n      <th>2</th>\n      <td>69</td>\n      <td>NaN</td>\n      <td>NaN</td>\n      <td>NaN</td>\n      <td>NaN</td>\n      <td>NaN</td>\n      <td>NaN</td>\n      <td>NaN</td>\n      <td>NaN</td>\n      <td>NaN</td>\n      <td>...</td>\n      <td>NaN</td>\n      <td>NaN</td>\n      <td>NaN</td>\n      <td>NaN</td>\n      <td>NaN</td>\n      <td>NaN</td>\n      <td>NaN</td>\n      <td>NaN</td>\n      <td>3</td>\n      <td>NaN</td>\n    </tr>\n    <tr>\n      <th>3</th>\n      <td>70</td>\n      <td>NaN</td>\n      <td>2.0</td>\n      <td>2.0</td>\n      <td>1.0</td>\n      <td>1.0</td>\n      <td>1.0</td>\n      <td>1.0</td>\n      <td>1.0</td>\n      <td>NaN</td>\n      <td>...</td>\n      <td>1.0</td>\n      <td>1.0</td>\n      <td>1.0</td>\n      <td>1.0</td>\n      <td>1.0</td>\n      <td>1.0</td>\n      <td>1.0</td>\n      <td>NaN</td>\n      <td>3</td>\n      <td>NaN</td>\n    </tr>\n    <tr>\n      <th>4</th>\n      <td>72</td>\n      <td>NaN</td>\n      <td>2.0</td>\n      <td>2.0</td>\n      <td>1.0</td>\n      <td>1.0</td>\n      <td>1.0</td>\n      <td>1.0</td>\n      <td>1.0</td>\n      <td>NaN</td>\n      <td>...</td>\n      <td>1.0</td>\n      <td>1.0</td>\n      <td>1.0</td>\n      <td>1.0</td>\n      <td>1.0</td>\n      <td>1.0</td>\n      <td>1.0</td>\n      <td>NaN</td>\n      <td>9</td>\n      <td>NaN</td>\n    </tr>\n    <tr>\n      <th>...</th>\n      <td>...</td>\n      <td>...</td>\n      <td>...</td>\n      <td>...</td>\n      <td>...</td>\n      <td>...</td>\n      <td>...</td>\n      <td>...</td>\n      <td>...</td>\n      <td>...</td>\n      <td>...</td>\n      <td>...</td>\n      <td>...</td>\n      <td>...</td>\n      <td>...</td>\n      <td>...</td>\n      <td>...</td>\n      <td>...</td>\n      <td>...</td>\n      <td>...</td>\n      <td>...</td>\n    </tr>\n    <tr>\n      <th>260</th>\n      <td>405</td>\n      <td>NaN</td>\n      <td>2.0</td>\n      <td>2.0</td>\n      <td>1.0</td>\n      <td>1.0</td>\n      <td>1.0</td>\n      <td>1.0</td>\n      <td>1.0</td>\n      <td>1.0</td>\n      <td>...</td>\n      <td>1.0</td>\n      <td>1.0</td>\n      <td>1.0</td>\n      <td>1.0</td>\n      <td>1.0</td>\n      <td>1.0</td>\n      <td>1.0</td>\n      <td>1.0</td>\n      <td>13</td>\n      <td>1.0</td>\n    </tr>\n    <tr>\n      <th>261</th>\n      <td>407</td>\n      <td>NaN</td>\n      <td>NaN</td>\n      <td>NaN</td>\n      <td>NaN</td>\n      <td>NaN</td>\n      <td>NaN</td>\n      <td>NaN</td>\n      <td>NaN</td>\n      <td>NaN</td>\n      <td>...</td>\n      <td>NaN</td>\n      <td>NaN</td>\n      <td>NaN</td>\n      <td>NaN</td>\n      <td>NaN</td>\n      <td>NaN</td>\n      <td>NaN</td>\n      <td>NaN</td>\n      <td>13</td>\n      <td>NaN</td>\n    </tr>\n    <tr>\n      <th>262</th>\n      <td>408</td>\n      <td>NaN</td>\n      <td>2.0</td>\n      <td>2.0</td>\n      <td>1.0</td>\n      <td>1.0</td>\n      <td>1.0</td>\n      <td>1.0</td>\n      <td>1.0</td>\n      <td>1.0</td>\n      <td>...</td>\n      <td>1.0</td>\n      <td>1.0</td>\n      <td>1.0</td>\n      <td>1.0</td>\n      <td>1.0</td>\n      <td>1.0</td>\n      <td>1.0</td>\n      <td>1.0</td>\n      <td>1</td>\n      <td>1.0</td>\n    </tr>\n    <tr>\n      <th>263</th>\n      <td>409</td>\n      <td>NaN</td>\n      <td>2.0</td>\n      <td>2.0</td>\n      <td>1.0</td>\n      <td>1.0</td>\n      <td>1.0</td>\n      <td>1.0</td>\n      <td>1.0</td>\n      <td>1.0</td>\n      <td>...</td>\n      <td>1.0</td>\n      <td>1.0</td>\n      <td>2.0</td>\n      <td>1.0</td>\n      <td>1.0</td>\n      <td>1.0</td>\n      <td>1.0</td>\n      <td>1.0</td>\n      <td>1</td>\n      <td>1.0</td>\n    </tr>\n    <tr>\n      <th>264</th>\n      <td>414</td>\n      <td>NaN</td>\n      <td>NaN</td>\n      <td>NaN</td>\n      <td>NaN</td>\n      <td>NaN</td>\n      <td>NaN</td>\n      <td>NaN</td>\n      <td>NaN</td>\n      <td>NaN</td>\n      <td>...</td>\n      <td>NaN</td>\n      <td>NaN</td>\n      <td>NaN</td>\n      <td>NaN</td>\n      <td>NaN</td>\n      <td>NaN</td>\n      <td>NaN</td>\n      <td>NaN</td>\n      <td>7</td>\n      <td>NaN</td>\n    </tr>\n  </tbody>\n</table>\n<p>265 rows × 24 columns</p>\n</div>"
     },
     "execution_count": 8,
     "metadata": {},
     "output_type": "execute_result"
    }
   ],
   "source": [
    "\n",
    "# Identify the columns corresponding to categories in data_df that match selected values in \"values_df\"\n",
    "for var in values_selected['VAR'].unique():\n",
    "    if var in data_df.columns:\n",
    "        selected_responses[var] = data_df[var]  # Add each relevant category column\n",
    "\n",
    "selected_responses"
   ],
   "metadata": {
    "collapsed": false,
    "ExecuteTime": {
     "end_time": "2024-10-31T21:33:03.375063Z",
     "start_time": "2024-10-31T21:33:03.357588Z"
    }
   },
   "id": "ae61db6c775386b4",
   "execution_count": 8
  },
  {
   "cell_type": "code",
   "outputs": [
    {
     "data": {
      "text/plain": "      CASE  REF Category  Response\n3       70  NaN  R001x01       2.0\n4       72  NaN  R001x01       2.0\n5       73  NaN  R001x01       2.0\n12      84  NaN  R001x01       2.0\n13      88  NaN  R001x01       2.0\n...    ...  ...      ...       ...\n5646   178  NaN     R005       2.0\n5648   180  NaN     R005       2.0\n5710   270  NaN     R005       2.0\n5712   272  NaN     R005       2.0\n5799   365  NaN     R005       2.0\n\n[614 rows x 4 columns]",
      "text/html": "<div>\n<style scoped>\n    .dataframe tbody tr th:only-of-type {\n        vertical-align: middle;\n    }\n\n    .dataframe tbody tr th {\n        vertical-align: top;\n    }\n\n    .dataframe thead th {\n        text-align: right;\n    }\n</style>\n<table border=\"1\" class=\"dataframe\">\n  <thead>\n    <tr style=\"text-align: right;\">\n      <th></th>\n      <th>CASE</th>\n      <th>REF</th>\n      <th>Category</th>\n      <th>Response</th>\n    </tr>\n  </thead>\n  <tbody>\n    <tr>\n      <th>3</th>\n      <td>70</td>\n      <td>NaN</td>\n      <td>R001x01</td>\n      <td>2.0</td>\n    </tr>\n    <tr>\n      <th>4</th>\n      <td>72</td>\n      <td>NaN</td>\n      <td>R001x01</td>\n      <td>2.0</td>\n    </tr>\n    <tr>\n      <th>5</th>\n      <td>73</td>\n      <td>NaN</td>\n      <td>R001x01</td>\n      <td>2.0</td>\n    </tr>\n    <tr>\n      <th>12</th>\n      <td>84</td>\n      <td>NaN</td>\n      <td>R001x01</td>\n      <td>2.0</td>\n    </tr>\n    <tr>\n      <th>13</th>\n      <td>88</td>\n      <td>NaN</td>\n      <td>R001x01</td>\n      <td>2.0</td>\n    </tr>\n    <tr>\n      <th>...</th>\n      <td>...</td>\n      <td>...</td>\n      <td>...</td>\n      <td>...</td>\n    </tr>\n    <tr>\n      <th>5646</th>\n      <td>178</td>\n      <td>NaN</td>\n      <td>R005</td>\n      <td>2.0</td>\n    </tr>\n    <tr>\n      <th>5648</th>\n      <td>180</td>\n      <td>NaN</td>\n      <td>R005</td>\n      <td>2.0</td>\n    </tr>\n    <tr>\n      <th>5710</th>\n      <td>270</td>\n      <td>NaN</td>\n      <td>R005</td>\n      <td>2.0</td>\n    </tr>\n    <tr>\n      <th>5712</th>\n      <td>272</td>\n      <td>NaN</td>\n      <td>R005</td>\n      <td>2.0</td>\n    </tr>\n    <tr>\n      <th>5799</th>\n      <td>365</td>\n      <td>NaN</td>\n      <td>R005</td>\n      <td>2.0</td>\n    </tr>\n  </tbody>\n</table>\n<p>614 rows × 4 columns</p>\n</div>"
     },
     "execution_count": 9,
     "metadata": {},
     "output_type": "execute_result"
    }
   ],
   "source": [
    "\n",
    "# Filter to include only rows where categories have a value of \"2\" (selected)\n",
    "filtered_responses = selected_responses.melt(id_vars=['CASE', 'REF'], var_name='Category', value_name='Response')\n",
    "filtered_responses = filtered_responses[filtered_responses['Response'] == 2]\n",
    "\n",
    "filtered_responses"
   ],
   "metadata": {
    "collapsed": false,
    "ExecuteTime": {
     "end_time": "2024-10-31T21:34:12.812268Z",
     "start_time": "2024-10-31T21:34:12.800532Z"
    }
   },
   "id": "859607d4318f74c5",
   "execution_count": 9
  },
  {
   "cell_type": "code",
   "outputs": [
    {
     "data": {
      "text/plain": "      CASE  REF Category                                     Category_Label\n3       70  NaN  R001x01  Category: Modelling, Simulation and Data Analy...\n4       72  NaN  R001x01  Category: Modelling, Simulation and Data Analy...\n5       73  NaN  R001x01  Category: Modelling, Simulation and Data Analy...\n12      84  NaN  R001x01  Category: Modelling, Simulation and Data Analy...\n13      88  NaN  R001x01  Category: Modelling, Simulation and Data Analy...\n...    ...  ...      ...                                                ...\n5646   178  NaN     R005                                       New_Category\n5648   180  NaN     R005                                       New_Category\n5710   270  NaN     R005                                       New_Category\n5712   272  NaN     R005                                       New_Category\n5799   365  NaN     R005                                       New_Category\n\n[614 rows x 4 columns]",
      "text/html": "<div>\n<style scoped>\n    .dataframe tbody tr th:only-of-type {\n        vertical-align: middle;\n    }\n\n    .dataframe tbody tr th {\n        vertical-align: top;\n    }\n\n    .dataframe thead th {\n        text-align: right;\n    }\n</style>\n<table border=\"1\" class=\"dataframe\">\n  <thead>\n    <tr style=\"text-align: right;\">\n      <th></th>\n      <th>CASE</th>\n      <th>REF</th>\n      <th>Category</th>\n      <th>Category_Label</th>\n    </tr>\n  </thead>\n  <tbody>\n    <tr>\n      <th>3</th>\n      <td>70</td>\n      <td>NaN</td>\n      <td>R001x01</td>\n      <td>Category: Modelling, Simulation and Data Analy...</td>\n    </tr>\n    <tr>\n      <th>4</th>\n      <td>72</td>\n      <td>NaN</td>\n      <td>R001x01</td>\n      <td>Category: Modelling, Simulation and Data Analy...</td>\n    </tr>\n    <tr>\n      <th>5</th>\n      <td>73</td>\n      <td>NaN</td>\n      <td>R001x01</td>\n      <td>Category: Modelling, Simulation and Data Analy...</td>\n    </tr>\n    <tr>\n      <th>12</th>\n      <td>84</td>\n      <td>NaN</td>\n      <td>R001x01</td>\n      <td>Category: Modelling, Simulation and Data Analy...</td>\n    </tr>\n    <tr>\n      <th>13</th>\n      <td>88</td>\n      <td>NaN</td>\n      <td>R001x01</td>\n      <td>Category: Modelling, Simulation and Data Analy...</td>\n    </tr>\n    <tr>\n      <th>...</th>\n      <td>...</td>\n      <td>...</td>\n      <td>...</td>\n      <td>...</td>\n    </tr>\n    <tr>\n      <th>5646</th>\n      <td>178</td>\n      <td>NaN</td>\n      <td>R005</td>\n      <td>New_Category</td>\n    </tr>\n    <tr>\n      <th>5648</th>\n      <td>180</td>\n      <td>NaN</td>\n      <td>R005</td>\n      <td>New_Category</td>\n    </tr>\n    <tr>\n      <th>5710</th>\n      <td>270</td>\n      <td>NaN</td>\n      <td>R005</td>\n      <td>New_Category</td>\n    </tr>\n    <tr>\n      <th>5712</th>\n      <td>272</td>\n      <td>NaN</td>\n      <td>R005</td>\n      <td>New_Category</td>\n    </tr>\n    <tr>\n      <th>5799</th>\n      <td>365</td>\n      <td>NaN</td>\n      <td>R005</td>\n      <td>New_Category</td>\n    </tr>\n  </tbody>\n</table>\n<p>614 rows × 4 columns</p>\n</div>"
     },
     "execution_count": 7,
     "metadata": {},
     "output_type": "execute_result"
    }
   ],
   "source": [
    "\n",
    "\n",
    "# Map category codes to their labels and clean up the output\n",
    "filtered_responses['Category_Label'] = filtered_responses['Category'].map(variables_labels)\n",
    "filtered_responses.drop(columns='Response', inplace=True)\n",
    "\n",
    "filtered_responses\n",
    "# Display the result\n",
    "# import ace_tools as tools; \n",
    "# tools.display_dataframe_to_user(name=\"Selected Votes Summary\", dataframe=filtered_responses)\n"
   ],
   "metadata": {
    "collapsed": false,
    "ExecuteTime": {
     "end_time": "2024-10-31T21:32:55.928342Z",
     "start_time": "2024-10-31T21:32:55.911737Z"
    }
   },
   "id": "e5d622892fc5c6ad",
   "execution_count": 7
  },
  {
   "cell_type": "code",
   "outputs": [
    {
     "data": {
      "text/plain": "     CASE  REF                                Selected_Categories  \\\n0      70  NaN  [Category: Modelling, Simulation and Data Anal...   \n1      72  NaN  [Category: Modelling, Simulation and Data Anal...   \n2      73  NaN  [Category: Modelling, Simulation and Data Anal...   \n3      74  NaN  [Category: Research Infrastructure Software, C...   \n4      75  NaN           [Category: Technology Research Software]   \n..    ...  ...                                                ...   \n238   399  NaN  [Category: Modelling, Simulation and Data Anal...   \n239   404  NaN  [Category: Technology Research Software, Categ...   \n240   405  NaN  [Category: Modelling, Simulation and Data Anal...   \n241   408  NaN  [Category: Modelling, Simulation and Data Anal...   \n242   409  NaN  [Category: Modelling, Simulation and Data Anal...   \n\n                     DOI  Voter  \n0    10.21105/joss.07134      3  \n1    10.21105/joss.07134      9  \n2    10.21105/joss.06914      9  \n3    10.21105/joss.06914      2  \n4    10.21105/joss.06825      2  \n..                   ...    ...  \n238  10.21105/joss.02825     13  \n239  10.21105/joss.03465     13  \n240  10.21105/joss.03097     13  \n241  10.21105/joss.03097      1  \n242  10.21105/joss.03465      1  \n\n[243 rows x 5 columns]",
      "text/html": "<div>\n<style scoped>\n    .dataframe tbody tr th:only-of-type {\n        vertical-align: middle;\n    }\n\n    .dataframe tbody tr th {\n        vertical-align: top;\n    }\n\n    .dataframe thead th {\n        text-align: right;\n    }\n</style>\n<table border=\"1\" class=\"dataframe\">\n  <thead>\n    <tr style=\"text-align: right;\">\n      <th></th>\n      <th>CASE</th>\n      <th>REF</th>\n      <th>Selected_Categories</th>\n      <th>DOI</th>\n      <th>Voter</th>\n    </tr>\n  </thead>\n  <tbody>\n    <tr>\n      <th>0</th>\n      <td>70</td>\n      <td>NaN</td>\n      <td>[Category: Modelling, Simulation and Data Anal...</td>\n      <td>10.21105/joss.07134</td>\n      <td>3</td>\n    </tr>\n    <tr>\n      <th>1</th>\n      <td>72</td>\n      <td>NaN</td>\n      <td>[Category: Modelling, Simulation and Data Anal...</td>\n      <td>10.21105/joss.07134</td>\n      <td>9</td>\n    </tr>\n    <tr>\n      <th>2</th>\n      <td>73</td>\n      <td>NaN</td>\n      <td>[Category: Modelling, Simulation and Data Anal...</td>\n      <td>10.21105/joss.06914</td>\n      <td>9</td>\n    </tr>\n    <tr>\n      <th>3</th>\n      <td>74</td>\n      <td>NaN</td>\n      <td>[Category: Research Infrastructure Software, C...</td>\n      <td>10.21105/joss.06914</td>\n      <td>2</td>\n    </tr>\n    <tr>\n      <th>4</th>\n      <td>75</td>\n      <td>NaN</td>\n      <td>[Category: Technology Research Software]</td>\n      <td>10.21105/joss.06825</td>\n      <td>2</td>\n    </tr>\n    <tr>\n      <th>...</th>\n      <td>...</td>\n      <td>...</td>\n      <td>...</td>\n      <td>...</td>\n      <td>...</td>\n    </tr>\n    <tr>\n      <th>238</th>\n      <td>399</td>\n      <td>NaN</td>\n      <td>[Category: Modelling, Simulation and Data Anal...</td>\n      <td>10.21105/joss.02825</td>\n      <td>13</td>\n    </tr>\n    <tr>\n      <th>239</th>\n      <td>404</td>\n      <td>NaN</td>\n      <td>[Category: Technology Research Software, Categ...</td>\n      <td>10.21105/joss.03465</td>\n      <td>13</td>\n    </tr>\n    <tr>\n      <th>240</th>\n      <td>405</td>\n      <td>NaN</td>\n      <td>[Category: Modelling, Simulation and Data Anal...</td>\n      <td>10.21105/joss.03097</td>\n      <td>13</td>\n    </tr>\n    <tr>\n      <th>241</th>\n      <td>408</td>\n      <td>NaN</td>\n      <td>[Category: Modelling, Simulation and Data Anal...</td>\n      <td>10.21105/joss.03097</td>\n      <td>1</td>\n    </tr>\n    <tr>\n      <th>242</th>\n      <td>409</td>\n      <td>NaN</td>\n      <td>[Category: Modelling, Simulation and Data Anal...</td>\n      <td>10.21105/joss.03465</td>\n      <td>1</td>\n    </tr>\n  </tbody>\n</table>\n<p>243 rows × 5 columns</p>\n</div>"
     },
     "execution_count": 12,
     "metadata": {},
     "output_type": "execute_result"
    }
   ],
   "source": [
    "category_columns = [col for col in data_df.columns if col.startswith('R001x')]\n",
    "\n",
    "\n",
    "\n",
    "# Initialize a result dataframe to store each CASE, REF, and a list of categories marked as \"2\"\n",
    "\n",
    "votes_summary = []\n",
    "\n",
    "\n",
    "\n",
    "# Iterate over each row in the data to gather CASE, REF, and list of selected categories\n",
    "\n",
    "for _, row in data_df.iterrows():\n",
    "\n",
    "    case = row['CASE']\n",
    "\n",
    "    ref = row['REF']\n",
    "\n",
    "    selected_categories = []\n",
    "\n",
    "\n",
    "\n",
    "    # Check each category column if it is marked with \"2\"\n",
    "\n",
    "    for col in category_columns:\n",
    "\n",
    "        if row[col] == 2:\n",
    "\n",
    "            category_label = variables_labels.get(col, col)  # Get label if available, or fallback to column name\n",
    "\n",
    "            selected_categories.append(category_label)\n",
    "\n",
    "\n",
    "\n",
    "    # Append only if there are selected categories\n",
    "\n",
    "    if selected_categories:\n",
    "\n",
    "        votes_summary.append({\n",
    "\n",
    "            'CASE': case,\n",
    "\n",
    "            'REF': ref,\n",
    "\n",
    "            'Selected_Categories': selected_categories\n",
    "\n",
    "        })\n",
    "\n",
    "\n",
    "\n",
    "# Convert the summary list into a DataFrame for easier display\n",
    "\n",
    "votes_summary_df = pd.DataFrame(votes_summary)\n",
    "votes_summary_df['DOI'] = data_df.set_index('CASE').loc[votes_summary_df['CASE'], 'R004_01'].values\n",
    "votes_summary_df['Voter'] = data_df.set_index('CASE').loc[votes_summary_df['CASE'], 'R003'].values\n",
    "\n",
    "\n",
    "votes_summary_df"
   ],
   "metadata": {
    "collapsed": false,
    "ExecuteTime": {
     "end_time": "2024-10-31T21:49:20.337609Z",
     "start_time": "2024-10-31T21:49:20.307043Z"
    }
   },
   "id": "8ac80d698b0ee51d",
   "execution_count": 12
  },
  {
   "cell_type": "code",
   "outputs": [
    {
     "data": {
      "text/plain": "     CASE  REF                                Selected_Categories  \\\n231   389  NaN  [Category: Modelling, Simulation and Data Anal...   \n232   391  NaN  [Category: Modelling, Simulation and Data Anal...   \n233   393  NaN  [Category: Modelling, Simulation and Data Anal...   \n235   396  NaN  [Category: Modelling, Simulation and Data Anal...   \n236   397  NaN  [Category: Modelling, Simulation and Data Anal...   \n237   398  NaN  [Category: Modelling, Simulation and Data Anal...   \n\n                     DOI  Voter  \n231  10.21105/joss.06203      5  \n232  10.21105/joss.06358      5  \n233  10.21105/joss.05855      5  \n235  10.21105/joss.02017      5  \n236  10.21105/joss.05940      5  \n237  10.21105/joss.02825      5  ",
      "text/html": "<div>\n<style scoped>\n    .dataframe tbody tr th:only-of-type {\n        vertical-align: middle;\n    }\n\n    .dataframe tbody tr th {\n        vertical-align: top;\n    }\n\n    .dataframe thead th {\n        text-align: right;\n    }\n</style>\n<table border=\"1\" class=\"dataframe\">\n  <thead>\n    <tr style=\"text-align: right;\">\n      <th></th>\n      <th>CASE</th>\n      <th>REF</th>\n      <th>Selected_Categories</th>\n      <th>DOI</th>\n      <th>Voter</th>\n    </tr>\n  </thead>\n  <tbody>\n    <tr>\n      <th>231</th>\n      <td>389</td>\n      <td>NaN</td>\n      <td>[Category: Modelling, Simulation and Data Anal...</td>\n      <td>10.21105/joss.06203</td>\n      <td>5</td>\n    </tr>\n    <tr>\n      <th>232</th>\n      <td>391</td>\n      <td>NaN</td>\n      <td>[Category: Modelling, Simulation and Data Anal...</td>\n      <td>10.21105/joss.06358</td>\n      <td>5</td>\n    </tr>\n    <tr>\n      <th>233</th>\n      <td>393</td>\n      <td>NaN</td>\n      <td>[Category: Modelling, Simulation and Data Anal...</td>\n      <td>10.21105/joss.05855</td>\n      <td>5</td>\n    </tr>\n    <tr>\n      <th>235</th>\n      <td>396</td>\n      <td>NaN</td>\n      <td>[Category: Modelling, Simulation and Data Anal...</td>\n      <td>10.21105/joss.02017</td>\n      <td>5</td>\n    </tr>\n    <tr>\n      <th>236</th>\n      <td>397</td>\n      <td>NaN</td>\n      <td>[Category: Modelling, Simulation and Data Anal...</td>\n      <td>10.21105/joss.05940</td>\n      <td>5</td>\n    </tr>\n    <tr>\n      <th>237</th>\n      <td>398</td>\n      <td>NaN</td>\n      <td>[Category: Modelling, Simulation and Data Anal...</td>\n      <td>10.21105/joss.02825</td>\n      <td>5</td>\n    </tr>\n  </tbody>\n</table>\n</div>"
     },
     "execution_count": 13,
     "metadata": {},
     "output_type": "execute_result"
    }
   ],
   "source": [
    "voter_5_votes = votes_summary_df[votes_summary_df['Voter'] == 5]\n",
    "\n",
    "voter_5_votes"
   ],
   "metadata": {
    "collapsed": false,
    "ExecuteTime": {
     "end_time": "2024-10-31T21:50:04.982230Z",
     "start_time": "2024-10-31T21:50:04.973538Z"
    }
   },
   "id": "4cc44de7059a0c7a",
   "execution_count": 13
  }
 ],
 "metadata": {
  "kernelspec": {
   "display_name": "Python 3",
   "language": "python",
   "name": "python3"
  },
  "language_info": {
   "codemirror_mode": {
    "name": "ipython",
    "version": 2
   },
   "file_extension": ".py",
   "mimetype": "text/x-python",
   "name": "python",
   "nbconvert_exporter": "python",
   "pygments_lexer": "ipython2",
   "version": "2.7.6"
  }
 },
 "nbformat": 4,
 "nbformat_minor": 5
}
