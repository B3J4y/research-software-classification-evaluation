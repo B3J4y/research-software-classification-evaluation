{
 "cells": [
  {
   "cell_type": "code",
   "execution_count": 14,
   "id": "636ed45be6a6c134",
   "metadata": {
    "collapsed": false,
    "ExecuteTime": {
     "end_time": "2024-11-01T07:37:08.167783Z",
     "start_time": "2024-11-01T07:37:08.153147Z"
    }
   },
   "outputs": [
    {
     "data": {
      "text/plain": "        VAR                                              LABEL    TYPE  \\\n0      CASE                     Interview-Nummer (fortlaufend)  METRIC   \n1    SERIAL  Personenkennung oder Teilnahmecode (sofern ver...    TEXT   \n2       REF                Referenz (sofern im Link angegeben)    TEXT   \n3  QUESTNNR       Fragebogen, der im Interview verwendet wurde    TEXT   \n4      MODE                                    Interview-Modus    TEXT   \n\n    INPUT QUESTION  \n0  SYSTEM      NaN  \n1  SYSTEM      NaN  \n2  SYSTEM      NaN  \n3  SYSTEM      NaN  \n4  SYSTEM      NaN  ",
      "text/html": "<div>\n<style scoped>\n    .dataframe tbody tr th:only-of-type {\n        vertical-align: middle;\n    }\n\n    .dataframe tbody tr th {\n        vertical-align: top;\n    }\n\n    .dataframe thead th {\n        text-align: right;\n    }\n</style>\n<table border=\"1\" class=\"dataframe\">\n  <thead>\n    <tr style=\"text-align: right;\">\n      <th></th>\n      <th>VAR</th>\n      <th>LABEL</th>\n      <th>TYPE</th>\n      <th>INPUT</th>\n      <th>QUESTION</th>\n    </tr>\n  </thead>\n  <tbody>\n    <tr>\n      <th>0</th>\n      <td>CASE</td>\n      <td>Interview-Nummer (fortlaufend)</td>\n      <td>METRIC</td>\n      <td>SYSTEM</td>\n      <td>NaN</td>\n    </tr>\n    <tr>\n      <th>1</th>\n      <td>SERIAL</td>\n      <td>Personenkennung oder Teilnahmecode (sofern ver...</td>\n      <td>TEXT</td>\n      <td>SYSTEM</td>\n      <td>NaN</td>\n    </tr>\n    <tr>\n      <th>2</th>\n      <td>REF</td>\n      <td>Referenz (sofern im Link angegeben)</td>\n      <td>TEXT</td>\n      <td>SYSTEM</td>\n      <td>NaN</td>\n    </tr>\n    <tr>\n      <th>3</th>\n      <td>QUESTNNR</td>\n      <td>Fragebogen, der im Interview verwendet wurde</td>\n      <td>TEXT</td>\n      <td>SYSTEM</td>\n      <td>NaN</td>\n    </tr>\n    <tr>\n      <th>4</th>\n      <td>MODE</td>\n      <td>Interview-Modus</td>\n      <td>TEXT</td>\n      <td>SYSTEM</td>\n      <td>NaN</td>\n    </tr>\n  </tbody>\n</table>\n</div>"
     },
     "execution_count": 14,
     "metadata": {},
     "output_type": "execute_result"
    }
   ],
   "source": [
    "import pandas as pd\n",
    "\n",
    "# Attempt to load the data using UTF-16 encoding, which may resolve encoding issues\n",
    "variables_df = pd.read_csv('../data/variables_res-soft-class_2024-10-31_21-58.csv', delimiter=';', encoding='utf-16')\n",
    "data_df = pd.read_csv('../data/data_res-soft-class_2024-10-31_21-46.csv', delimiter=';', encoding='utf-16')\n",
    "values_df = pd.read_csv('../data/values_res-soft-class_2024-10-31_21-58.csv', delimiter=';', encoding='utf-16')\n",
    "\n",
    "# Displaying the first few rows of each DataFrame to verify successful loading\n",
    "variables_df.head() \n",
    " "
   ]
  },
  {
   "cell_type": "code",
   "outputs": [
    {
     "data": {
      "text/plain": "   CASE  SERIAL  REF QUESTNNR       MODE              STARTED  R001_CN  \\\n0    63     NaN  NaN     base  interview  2024-10-18 08:46:14      NaN   \n1    68     NaN  NaN     base  interview  2024-10-18 09:30:17      NaN   \n2    69     NaN  NaN     base  interview  2024-10-18 10:01:06      NaN   \n3    70     NaN  NaN     base  interview  2024-10-18 10:02:52      1.0   \n4    72     NaN  NaN     base  interview  2024-10-18 11:52:05      1.0   \n\n   R001x01  R001x11  R001x12  ...  TIME_SUM  MAILSENT             LASTDATA  \\\n0      NaN      NaN      NaN  ...        10       NaN  2024-10-18 08:46:24   \n1      NaN      NaN      NaN  ...       174       NaN  2024-10-21 09:14:27   \n2      NaN      NaN      NaN  ...         6       NaN  2024-10-18 10:01:12   \n3      2.0      2.0      1.0  ...       632       NaN  2024-10-18 10:13:24   \n4      2.0      2.0      1.0  ...       162       NaN  2024-10-18 11:54:47   \n\n   FINISHED  Q_VIEWER  LASTPAGE  MAXPAGE  MISSING  MISSREL  TIME_RSI  \n0         0         0         1        1        0        0       0,6  \n1         0         0         2        2        0        0      0,38  \n2         0         0         1        1        0        0         1  \n3         1         0         2        2        0        0      1,13  \n4         1         0         2        2        0        0      0,96  \n\n[5 rows x 46 columns]",
      "text/html": "<div>\n<style scoped>\n    .dataframe tbody tr th:only-of-type {\n        vertical-align: middle;\n    }\n\n    .dataframe tbody tr th {\n        vertical-align: top;\n    }\n\n    .dataframe thead th {\n        text-align: right;\n    }\n</style>\n<table border=\"1\" class=\"dataframe\">\n  <thead>\n    <tr style=\"text-align: right;\">\n      <th></th>\n      <th>CASE</th>\n      <th>SERIAL</th>\n      <th>REF</th>\n      <th>QUESTNNR</th>\n      <th>MODE</th>\n      <th>STARTED</th>\n      <th>R001_CN</th>\n      <th>R001x01</th>\n      <th>R001x11</th>\n      <th>R001x12</th>\n      <th>...</th>\n      <th>TIME_SUM</th>\n      <th>MAILSENT</th>\n      <th>LASTDATA</th>\n      <th>FINISHED</th>\n      <th>Q_VIEWER</th>\n      <th>LASTPAGE</th>\n      <th>MAXPAGE</th>\n      <th>MISSING</th>\n      <th>MISSREL</th>\n      <th>TIME_RSI</th>\n    </tr>\n  </thead>\n  <tbody>\n    <tr>\n      <th>0</th>\n      <td>63</td>\n      <td>NaN</td>\n      <td>NaN</td>\n      <td>base</td>\n      <td>interview</td>\n      <td>2024-10-18 08:46:14</td>\n      <td>NaN</td>\n      <td>NaN</td>\n      <td>NaN</td>\n      <td>NaN</td>\n      <td>...</td>\n      <td>10</td>\n      <td>NaN</td>\n      <td>2024-10-18 08:46:24</td>\n      <td>0</td>\n      <td>0</td>\n      <td>1</td>\n      <td>1</td>\n      <td>0</td>\n      <td>0</td>\n      <td>0,6</td>\n    </tr>\n    <tr>\n      <th>1</th>\n      <td>68</td>\n      <td>NaN</td>\n      <td>NaN</td>\n      <td>base</td>\n      <td>interview</td>\n      <td>2024-10-18 09:30:17</td>\n      <td>NaN</td>\n      <td>NaN</td>\n      <td>NaN</td>\n      <td>NaN</td>\n      <td>...</td>\n      <td>174</td>\n      <td>NaN</td>\n      <td>2024-10-21 09:14:27</td>\n      <td>0</td>\n      <td>0</td>\n      <td>2</td>\n      <td>2</td>\n      <td>0</td>\n      <td>0</td>\n      <td>0,38</td>\n    </tr>\n    <tr>\n      <th>2</th>\n      <td>69</td>\n      <td>NaN</td>\n      <td>NaN</td>\n      <td>base</td>\n      <td>interview</td>\n      <td>2024-10-18 10:01:06</td>\n      <td>NaN</td>\n      <td>NaN</td>\n      <td>NaN</td>\n      <td>NaN</td>\n      <td>...</td>\n      <td>6</td>\n      <td>NaN</td>\n      <td>2024-10-18 10:01:12</td>\n      <td>0</td>\n      <td>0</td>\n      <td>1</td>\n      <td>1</td>\n      <td>0</td>\n      <td>0</td>\n      <td>1</td>\n    </tr>\n    <tr>\n      <th>3</th>\n      <td>70</td>\n      <td>NaN</td>\n      <td>NaN</td>\n      <td>base</td>\n      <td>interview</td>\n      <td>2024-10-18 10:02:52</td>\n      <td>1.0</td>\n      <td>2.0</td>\n      <td>2.0</td>\n      <td>1.0</td>\n      <td>...</td>\n      <td>632</td>\n      <td>NaN</td>\n      <td>2024-10-18 10:13:24</td>\n      <td>1</td>\n      <td>0</td>\n      <td>2</td>\n      <td>2</td>\n      <td>0</td>\n      <td>0</td>\n      <td>1,13</td>\n    </tr>\n    <tr>\n      <th>4</th>\n      <td>72</td>\n      <td>NaN</td>\n      <td>NaN</td>\n      <td>base</td>\n      <td>interview</td>\n      <td>2024-10-18 11:52:05</td>\n      <td>1.0</td>\n      <td>2.0</td>\n      <td>2.0</td>\n      <td>1.0</td>\n      <td>...</td>\n      <td>162</td>\n      <td>NaN</td>\n      <td>2024-10-18 11:54:47</td>\n      <td>1</td>\n      <td>0</td>\n      <td>2</td>\n      <td>2</td>\n      <td>0</td>\n      <td>0</td>\n      <td>0,96</td>\n    </tr>\n  </tbody>\n</table>\n<p>5 rows × 46 columns</p>\n</div>"
     },
     "execution_count": 15,
     "metadata": {},
     "output_type": "execute_result"
    }
   ],
   "source": [
    "data_df.head()"
   ],
   "metadata": {
    "collapsed": false,
    "ExecuteTime": {
     "end_time": "2024-11-01T07:37:08.176730Z",
     "start_time": "2024-11-01T07:37:08.168800Z"
    }
   },
   "id": "9ee1ff6f72e463f",
   "execution_count": 15
  },
  {
   "cell_type": "code",
   "outputs": [
    {
     "data": {
      "text/plain": "       VAR  RESPONSE        MEANING\n0  R001x01         1  nicht gewählt\n1  R001x01         2     ausgewählt\n2  R001x11         1  nicht gewählt\n3  R001x11         2     ausgewählt\n4  R001x12         1  nicht gewählt",
      "text/html": "<div>\n<style scoped>\n    .dataframe tbody tr th:only-of-type {\n        vertical-align: middle;\n    }\n\n    .dataframe tbody tr th {\n        vertical-align: top;\n    }\n\n    .dataframe thead th {\n        text-align: right;\n    }\n</style>\n<table border=\"1\" class=\"dataframe\">\n  <thead>\n    <tr style=\"text-align: right;\">\n      <th></th>\n      <th>VAR</th>\n      <th>RESPONSE</th>\n      <th>MEANING</th>\n    </tr>\n  </thead>\n  <tbody>\n    <tr>\n      <th>0</th>\n      <td>R001x01</td>\n      <td>1</td>\n      <td>nicht gewählt</td>\n    </tr>\n    <tr>\n      <th>1</th>\n      <td>R001x01</td>\n      <td>2</td>\n      <td>ausgewählt</td>\n    </tr>\n    <tr>\n      <th>2</th>\n      <td>R001x11</td>\n      <td>1</td>\n      <td>nicht gewählt</td>\n    </tr>\n    <tr>\n      <th>3</th>\n      <td>R001x11</td>\n      <td>2</td>\n      <td>ausgewählt</td>\n    </tr>\n    <tr>\n      <th>4</th>\n      <td>R001x12</td>\n      <td>1</td>\n      <td>nicht gewählt</td>\n    </tr>\n  </tbody>\n</table>\n</div>"
     },
     "execution_count": 16,
     "metadata": {},
     "output_type": "execute_result"
    }
   ],
   "source": [
    "\n",
    "values_df.head()\n"
   ],
   "metadata": {
    "collapsed": true,
    "ExecuteTime": {
     "end_time": "2024-11-01T07:37:08.181777Z",
     "start_time": "2024-11-01T07:37:08.176730Z"
    }
   },
   "id": "initial_id",
   "execution_count": 16
  },
  {
   "cell_type": "code",
   "outputs": [
    {
     "data": {
      "text/plain": "     CASE  REF                                Selected_Categories  \\\n0      70  NaN  [Category: Modelling, Simulation and Data Anal...   \n1      72  NaN  [Category: Modelling, Simulation and Data Anal...   \n2      73  NaN  [Category: Modelling, Simulation and Data Anal...   \n3      74  NaN  [Category: Research Infrastructure Software, C...   \n4      75  NaN           [Category: Technology Research Software]   \n..    ...  ...                                                ...   \n238   399  NaN  [Category: Modelling, Simulation and Data Anal...   \n239   404  NaN  [Category: Technology Research Software, Categ...   \n240   405  NaN  [Category: Modelling, Simulation and Data Anal...   \n241   408  NaN  [Category: Modelling, Simulation and Data Anal...   \n242   409  NaN  [Category: Modelling, Simulation and Data Anal...   \n\n                     DOI  Voter  \n0    10.21105/joss.07134      3  \n1    10.21105/joss.07134      9  \n2    10.21105/joss.06914      9  \n3    10.21105/joss.06914      2  \n4    10.21105/joss.06825      2  \n..                   ...    ...  \n238  10.21105/joss.02825     13  \n239  10.21105/joss.03465     13  \n240  10.21105/joss.03097     13  \n241  10.21105/joss.03097      1  \n242  10.21105/joss.03465      1  \n\n[243 rows x 5 columns]",
      "text/html": "<div>\n<style scoped>\n    .dataframe tbody tr th:only-of-type {\n        vertical-align: middle;\n    }\n\n    .dataframe tbody tr th {\n        vertical-align: top;\n    }\n\n    .dataframe thead th {\n        text-align: right;\n    }\n</style>\n<table border=\"1\" class=\"dataframe\">\n  <thead>\n    <tr style=\"text-align: right;\">\n      <th></th>\n      <th>CASE</th>\n      <th>REF</th>\n      <th>Selected_Categories</th>\n      <th>DOI</th>\n      <th>Voter</th>\n    </tr>\n  </thead>\n  <tbody>\n    <tr>\n      <th>0</th>\n      <td>70</td>\n      <td>NaN</td>\n      <td>[Category: Modelling, Simulation and Data Anal...</td>\n      <td>10.21105/joss.07134</td>\n      <td>3</td>\n    </tr>\n    <tr>\n      <th>1</th>\n      <td>72</td>\n      <td>NaN</td>\n      <td>[Category: Modelling, Simulation and Data Anal...</td>\n      <td>10.21105/joss.07134</td>\n      <td>9</td>\n    </tr>\n    <tr>\n      <th>2</th>\n      <td>73</td>\n      <td>NaN</td>\n      <td>[Category: Modelling, Simulation and Data Anal...</td>\n      <td>10.21105/joss.06914</td>\n      <td>9</td>\n    </tr>\n    <tr>\n      <th>3</th>\n      <td>74</td>\n      <td>NaN</td>\n      <td>[Category: Research Infrastructure Software, C...</td>\n      <td>10.21105/joss.06914</td>\n      <td>2</td>\n    </tr>\n    <tr>\n      <th>4</th>\n      <td>75</td>\n      <td>NaN</td>\n      <td>[Category: Technology Research Software]</td>\n      <td>10.21105/joss.06825</td>\n      <td>2</td>\n    </tr>\n    <tr>\n      <th>...</th>\n      <td>...</td>\n      <td>...</td>\n      <td>...</td>\n      <td>...</td>\n      <td>...</td>\n    </tr>\n    <tr>\n      <th>238</th>\n      <td>399</td>\n      <td>NaN</td>\n      <td>[Category: Modelling, Simulation and Data Anal...</td>\n      <td>10.21105/joss.02825</td>\n      <td>13</td>\n    </tr>\n    <tr>\n      <th>239</th>\n      <td>404</td>\n      <td>NaN</td>\n      <td>[Category: Technology Research Software, Categ...</td>\n      <td>10.21105/joss.03465</td>\n      <td>13</td>\n    </tr>\n    <tr>\n      <th>240</th>\n      <td>405</td>\n      <td>NaN</td>\n      <td>[Category: Modelling, Simulation and Data Anal...</td>\n      <td>10.21105/joss.03097</td>\n      <td>13</td>\n    </tr>\n    <tr>\n      <th>241</th>\n      <td>408</td>\n      <td>NaN</td>\n      <td>[Category: Modelling, Simulation and Data Anal...</td>\n      <td>10.21105/joss.03097</td>\n      <td>1</td>\n    </tr>\n    <tr>\n      <th>242</th>\n      <td>409</td>\n      <td>NaN</td>\n      <td>[Category: Modelling, Simulation and Data Anal...</td>\n      <td>10.21105/joss.03465</td>\n      <td>1</td>\n    </tr>\n  </tbody>\n</table>\n<p>243 rows × 5 columns</p>\n</div>"
     },
     "execution_count": 17,
     "metadata": {},
     "output_type": "execute_result"
    }
   ],
   "source": [
    "\n",
    "category_columns = [col for col in data_df.columns if col.startswith('R001x')]\n",
    "\n",
    "\n",
    "\n",
    "# Initialize a result dataframe to store each CASE, REF, and a list of categories marked as \"2\"\n",
    "\n",
    "votes_summary = []\n",
    "\n",
    "\n",
    "\n",
    "# Iterate over each row in the data to gather CASE, REF, and list of selected categories\n",
    "\n",
    "for _, row in data_df.iterrows():\n",
    "\n",
    "    case = row['CASE']\n",
    "\n",
    "    ref = row['REF']\n",
    "\n",
    "    selected_categories = []\n",
    "\n",
    "\n",
    "\n",
    "    # Check each category column if it is marked with \"2\"\n",
    "\n",
    "    for col in category_columns:\n",
    "\n",
    "        if row[col] == 2:\n",
    "\n",
    "            category_label = variables_labels.get(col, col)  # Get label if available, or fallback to column name\n",
    "\n",
    "            selected_categories.append(category_label)\n",
    "\n",
    "\n",
    "\n",
    "    # Append only if there are selected categories\n",
    "\n",
    "    if selected_categories:\n",
    "\n",
    "        votes_summary.append({\n",
    "\n",
    "            'CASE': case,\n",
    "\n",
    "            'REF': ref,\n",
    "\n",
    "            'Selected_Categories': selected_categories\n",
    "\n",
    "        })\n",
    "\n",
    "\n",
    "\n",
    "# Convert the summary list into a DataFrame for easier display\n",
    "\n",
    "votes_summary_df = pd.DataFrame(votes_summary)\n",
    "votes_summary_df['DOI'] = data_df.set_index('CASE').loc[votes_summary_df['CASE'], 'R004_01'].values\n",
    "votes_summary_df['Voter'] = data_df.set_index('CASE').loc[votes_summary_df['CASE'], 'R003'].values\n",
    "\n",
    "\n",
    "votes_summary_df\n"
   ],
   "metadata": {
    "collapsed": false,
    "ExecuteTime": {
     "end_time": "2024-11-01T07:37:08.202532Z",
     "start_time": "2024-11-01T07:37:08.181777Z"
    }
   },
   "id": "3d47d77a729bb13a",
   "execution_count": 17
  }
 ],
 "metadata": {
  "kernelspec": {
   "display_name": "Python 3",
   "language": "python",
   "name": "python3"
  },
  "language_info": {
   "codemirror_mode": {
    "name": "ipython",
    "version": 2
   },
   "file_extension": ".py",
   "mimetype": "text/x-python",
   "name": "python",
   "nbconvert_exporter": "python",
   "pygments_lexer": "ipython2",
   "version": "2.7.6"
  }
 },
 "nbformat": 4,
 "nbformat_minor": 5
}
